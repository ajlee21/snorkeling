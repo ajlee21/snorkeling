{
 "cells": [
  {
   "cell_type": "markdown",
   "metadata": {},
   "source": [
    "# MUST RUN AT THE START OF EVERYTHING"
   ]
  },
  {
   "cell_type": "code",
   "execution_count": 1,
   "metadata": {
    "collapsed": false
   },
   "outputs": [],
   "source": [
    "%load_ext autoreload\n",
    "%autoreload 2\n",
    "%matplotlib inline\n",
    "\n",
    "from snorkel import SnorkelSession\n",
    "session = SnorkelSession()"
   ]
  },
  {
   "cell_type": "code",
   "execution_count": 2,
   "metadata": {
    "collapsed": true
   },
   "outputs": [],
   "source": [
    "from snorkel.models import candidate_subclass\n",
    "\n",
    "DiseaseGene = candidate_subclass('DiseaseGene', ['Disease', 'Gene'])"
   ]
  },
  {
   "cell_type": "code",
   "execution_count": null,
   "metadata": {
    "collapsed": true
   },
   "outputs": [],
   "source": [
    "from snorkel.viewer import SentenceNgramViewer\n",
    "\n",
    "candidates = session.query(DiseaseGene).filter(DiseaseGene.split==0).all()\n",
    "sv = SentenceNgramViewer(candidates, session)"
   ]
  },
  {
   "cell_type": "code",
   "execution_count": null,
   "metadata": {
    "collapsed": true
   },
   "outputs": [],
   "source": [
    "sv"
   ]
  },
  {
   "cell_type": "markdown",
   "metadata": {},
   "source": [
    "# Label Functions for the label manager"
   ]
  },
  {
   "cell_type": "code",
   "execution_count": 3,
   "metadata": {
    "collapsed": false
   },
   "outputs": [
    {
     "name": "stderr",
     "output_type": "stream",
     "text": [
      "/home/davidnicholson/anaconda3/envs/snorkeling/lib/python2.7/site-packages/matplotlib/__init__.py:1357: UserWarning:  This call to matplotlib.use() has no effect\n",
      "because the backend has already been chosen;\n",
      "matplotlib.use() must be called *before* pylab, matplotlib.pyplot,\n",
      "or matplotlib.backends is imported for the first time.\n",
      "\n",
      "  warnings.warn(_use_error_msg)\n"
     ]
    }
   ],
   "source": [
    "import re\n",
    "from snorkel.lf_helpers import (\n",
    "    get_left_tokens,\n",
    "    get_right_tokens, \n",
    "    get_between_tokens,\n",
    "    get_tagged_text,\n",
    "    get_text_between,\n",
    "    rule_regex_search_tagged_text,\n",
    "    rule_regex_search_btw_AB,\n",
    "    rule_regex_search_btw_BA,\n",
    "    rule_regex_search_before_A,\n",
    "    rule_regex_search_before_B,\n",
    ")"
   ]
  },
  {
   "cell_type": "code",
   "execution_count": 4,
   "metadata": {
    "collapsed": false
   },
   "outputs": [],
   "source": [
    "#insert label functions here!!!\n",
    "#For my hackish debugger purposes only\n",
    "def LF_debugger(c):\n",
    "    print c\n",
    "    print\n",
    "    print vars(c)\n",
    "    print\n",
    "    print vars(c[0])\n",
    "    print\n",
    "    print c[0]\n",
    "    print \n",
    "    print c[0].get_span()\n",
    "    print\n",
    "    print get_tagged_text(c)\n",
    "    print\n",
    "    print get_text_between(c)\n",
    "    print\n",
    "    print get_between_tokens(c)\n",
    "    print\n",
    "    print get_left_tokens(c)\n",
    "    print\n",
    "    print get_right_tokens(c)\n",
    "    print\n",
    "    sys.exit(1)\n",
    "    return 1 if c else 0\n",
    "\n",
    "def LF_between_tag(c):\n",
    "    m = re.search(\"associated with|Disruption\",get_text_between(c))\n",
    "    return 1 if m else 0\n",
    "\n",
    "def LF_mutation(c):\n",
    "    m = re.search(\"mutation\", \",\".join(get_left_tokens(c)))\n",
    "    n = re.search(\"mutation\", \",\".join(get_right_tokens(c)))\n",
    "    return 1 if m or n else 0\n",
    "\n",
    "def LF_check_disease_tag(c):\n",
    "    disease_name = c[0].get_span()\n",
    "    if \"syndrome\" in disease_name:\n",
    "        if \"epilepsy\" in disease_name.replace(\"syndrome\",\"\"):\n",
    "            return 1\n",
    "        else:\n",
    "            return -1\n",
    "    else:\n",
    "        return 1 if \"epilepsy\" in disease_name else 0"
   ]
  },
  {
   "cell_type": "code",
   "execution_count": 5,
   "metadata": {
    "collapsed": true
   },
   "outputs": [],
   "source": [
    "LFs = [\n",
    "    #LF_debugger\n",
    "    LF_between_tag,\n",
    "    LF_mutation,\n",
    "    LF_check_disease_tag,\n",
    "]"
   ]
  },
  {
   "cell_type": "markdown",
   "metadata": {},
   "source": [
    "# Label the candidates below"
   ]
  },
  {
   "cell_type": "code",
   "execution_count": 6,
   "metadata": {
    "collapsed": false
   },
   "outputs": [
    {
     "name": "stdout",
     "output_type": "stream",
     "text": [
      "Clearing existing...\n",
      "Running UDF...\n",
      "[========================================] 100%%\n",
      "\n",
      "CPU times: user 7.66 s, sys: 48 ms, total: 7.71 s\n",
      "Wall time: 8.01 s\n",
      "Clearing existing...\n",
      "Running UDF...\n",
      "[========================================] 100%%\n",
      "\n",
      "CPU times: user 7.96 s, sys: 64 ms, total: 8.02 s\n",
      "Wall time: 8.1 s\n"
     ]
    }
   ],
   "source": [
    "from snorkel.annotations import LabelAnnotator\n",
    "labeler = LabelAnnotator(f=LFs)\n",
    "\n",
    "%time L_train = labeler.apply(split=0)\n",
    "%time L_dev = labeler.apply_existing(split=1)"
   ]
  },
  {
   "cell_type": "markdown",
   "metadata": {},
   "source": [
    "# Genreate Coverage Stats"
   ]
  },
  {
   "cell_type": "code",
   "execution_count": 7,
   "metadata": {
    "collapsed": false
   },
   "outputs": [
    {
     "name": "stdout",
     "output_type": "stream",
     "text": [
      "                      j  Coverage  Overlaps  Conflicts\n",
      "LF_between_tag        0  0.092243  0.041929   0.026555\n",
      "LF_mutation           1  0.129979  0.048218   0.022362\n",
      "LF_check_disease_tag  2  0.306080  0.080363   0.048218\n",
      "                      j  Coverage  Overlaps  Conflicts\n",
      "LF_between_tag        0  0.054765  0.026316   0.009957\n",
      "LF_mutation           1  0.125178  0.046942   0.024182\n",
      "LF_check_disease_tag  2  0.265292  0.050498   0.031294\n"
     ]
    }
   ],
   "source": [
    "print L_train.lf_stats(session, )\n",
    "print L_dev.lf_stats(session, )"
   ]
  }
 ],
 "metadata": {
  "anaconda-cloud": {},
  "kernelspec": {
   "display_name": "Python 2",
   "language": "python",
   "name": "python2"
  },
  "language_info": {
   "codemirror_mode": {
    "name": "ipython",
    "version": 2
   },
   "file_extension": ".py",
   "mimetype": "text/x-python",
   "name": "python",
   "nbconvert_exporter": "python",
   "pygments_lexer": "ipython2",
   "version": "2.7.13"
  }
 },
 "nbformat": 4,
 "nbformat_minor": 2
}
