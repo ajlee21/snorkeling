{
 "cells": [
  {
   "cell_type": "markdown",
   "metadata": {},
   "source": [
    "# MUST RUN AT THE START OF EVERYTHING"
   ]
  },
  {
   "cell_type": "code",
   "execution_count": null,
   "metadata": {
    "collapsed": false
   },
   "outputs": [],
   "source": [
    "%load_ext autoreload\n",
    "%autoreload 2\n",
    "%matplotlib inline\n",
    "\n",
    "import os\n",
    "database_str = \"sqlite:///\" + os.environ['WORKINGPATH'] + \"/Database/epilepsy.db\"\n",
    "os.environ['SNORKELDB'] = database_str\n",
    "\n",
    "from snorkel import SnorkelSession\n",
    "session = SnorkelSession()"
   ]
  },
  {
   "cell_type": "markdown",
   "metadata": {},
   "source": [
    "# Load preprocessed data "
   ]
  },
  {
   "cell_type": "markdown",
   "metadata": {},
   "source": [
    "To save time, this code will automatically load our labels that were generated in the previous file."
   ]
  },
  {
   "cell_type": "code",
   "execution_count": null,
   "metadata": {
    "collapsed": false
   },
   "outputs": [],
   "source": [
    "from snorkel.annotations import LabelAnnotator\n",
    "labeler = LabelAnnotator(f=None)\n",
    "\n",
    "L_train = labeler.load_matrix(session,split=0)\n",
    "L_dev = labeler.load_matrix(session,split=1)\n",
    "L_test = labeler.load_matrix(session,split=2)"
   ]
  },
  {
   "cell_type": "code",
   "execution_count": null,
   "metadata": {
    "collapsed": false
   },
   "outputs": [],
   "source": [
    "print \"Total Data Shape:\"\n",
    "print L_train.shape\n",
    "print L_dev.shape\n",
    "print L_test.shape\n",
    "print\n",
    "\n",
    "print \"The number of positive candiadtes (in KB) for each division:\"\n",
    "print L_train[(L_train[:,0] > 0)].shape\n",
    "print L_dev[(L_dev[:,0] > 0)].shape\n",
    "print L_test[L_test[:,0] > 0].shape"
   ]
  },
  {
   "cell_type": "code",
   "execution_count": null,
   "metadata": {
    "collapsed": true
   },
   "outputs": [],
   "source": [
    "from snorkel.annotations import FeatureAnnotator\n",
    "featurizer = FeatureAnnotator()\n",
    "\n",
    "F_train = featurizer.load_matrix(session, split=0)\n",
    "F_dev = featurizer.load_matrix(session, split=1)\n",
    "F_test = featurizer.load_matrix(session, split=2)"
   ]
  },
  {
   "cell_type": "markdown",
   "metadata": {},
   "source": [
    "# Run the machine learning models below"
   ]
  },
  {
   "cell_type": "markdown",
   "metadata": {},
   "source": [
    "Since we are still in development stage below are just two generative models designed to model p(Labels,y). Until we can discuss more about the classifiers we want to use, feel free to run the below code and see some cool output."
   ]
  },
  {
   "cell_type": "code",
   "execution_count": null,
   "metadata": {
    "collapsed": false
   },
   "outputs": [],
   "source": [
    "from snorkel.learning import NaiveBayes\n",
    "KB = L_train[:,0]\n",
    "KB_CONTEXT = L_train\n",
    "train_marginals = []\n",
    "gen_model = NaiveBayes()\n",
    "\n",
    "for models in [KB,KB_CONTEXT]:\n",
    "    gen_model.train(models)\n",
    "    train_marginals.append(gen_model.marginals(models))"
   ]
  },
  {
   "cell_type": "code",
   "execution_count": null,
   "metadata": {
    "collapsed": false
   },
   "outputs": [],
   "source": [
    "import matplotlib.pyplot as plt\n",
    "plt.hist(train_marginals[0],bins=20)\n",
    "plt.title(\"KB\")\n",
    "plt.show()\n",
    "plt.hist(train_marginals[1],bins=20)\n",
    "plt.title(\"KB + Context\")\n",
    "plt.show()"
   ]
  },
  {
   "cell_type": "markdown",
   "metadata": {},
   "source": [
    "# Disc Model With Hyper-Param Tuning"
   ]
  },
  {
   "cell_type": "code",
   "execution_count": null,
   "metadata": {
    "collapsed": false
   },
   "outputs": [],
   "source": [
    "from snorkel.learning.utils import MentionScorer\n",
    "from snorkel.learning import RandomSearch, ListParameter, RangeParameter\n",
    "\n",
    "# Searching over learning rate\n",
    "rate_param = RangeParameter('lr', 1e-6, 1e-2, step=1, log_base=10)\n",
    "l1_param  = RangeParameter('l1_penalty', 1e-6, 1e-2, step=1, log_base=10)\n",
    "l2_param  = RangeParameter('l2_penalty', 1e-6, 1e-2, step=1, log_base=10)"
   ]
  },
  {
   "cell_type": "code",
   "execution_count": null,
   "metadata": {
    "collapsed": true
   },
   "outputs": [],
   "source": [
    "from snorkel.models import candidate_subclass\n",
    "DiseaseGene = candidate_subclass('DiseaseGene', ['Disease', 'Gene'])"
   ]
  },
  {
   "cell_type": "code",
   "execution_count": null,
   "metadata": {
    "collapsed": false,
    "scrolled": false
   },
   "outputs": [],
   "source": [
    "from snorkel.learning import SparseLogisticRegression\n",
    "import numpy as np\n",
    "np.random.seed(1701)\n",
    "test_marginals = []\n",
    "disc_models = []\n",
    "weights = []\n",
    "\n",
    "for i,L_classes in enumerate([KB,KB_CONTEXT]):\n",
    "    print i\n",
    "    disc_model = SparseLogisticRegression()\n",
    "    searcher = RandomSearch(session, disc_model, F_train, train_marginals[i], [rate_param, l1_param, l2_param], n=20)\n",
    "    searcher.fit(F_dev, L_dev, n_epochs=50, rebalance=0.5, print_freq=25)\n",
    "    disc_models.append(disc_model)\n",
    "    w = disc_model.save_dict['w']\n",
    "    f = w.read_value()\n",
    "    values = f.eval(session = disc_model.session)\n",
    "    weights.append(values)\n",
    "    test_marginals.append(disc_model.marginals(F_test))"
   ]
  },
  {
   "cell_type": "code",
   "execution_count": null,
   "metadata": {
    "collapsed": false,
    "scrolled": true
   },
   "outputs": [],
   "source": [
    "import numpy as np\n",
    "for model_id, weight_arr in enumerate(weights):\n",
    "    print \"Model {} max: {}\".format(model_id,np.max(weight_arr))\n",
    "    print \"Location: {}\".format(np.argmax(weight_arr))\n",
    "    print "
   ]
  },
  {
   "cell_type": "code",
   "execution_count": null,
   "metadata": {
    "collapsed": false
   },
   "outputs": [],
   "source": [
    "from snorkel.models import Candidate\n",
    "import pandas as pd\n",
    "test_marginals[0].shape\n",
    "cand_probs = []\n",
    "for candidate_id in L_test.candidate_index:\n",
    "    cand = session.query(Candidate).filter(Candidate.id == candidate_id).one()\n",
    "    index = L_test.candidate_index[candidate_id]\n",
    "    cand_probs.append([cand[0].get_span(), cand[1].get_span(),test_marginals[0][index], test_marginals[1][index]])\n",
    "cand_stats = pd.DataFrame(cand_probs, columns = [\"Disease\", \"Gene\", \"Model(KB)\", \"Model(KB+CONTEXT)\"])"
   ]
  },
  {
   "cell_type": "code",
   "execution_count": null,
   "metadata": {
    "collapsed": false
   },
   "outputs": [],
   "source": [
    "tp,fp,tn,fn = disc_models[0].score(session, F_test, L_test)\n",
    "tp,fp,tn,fn = disc_models[1].score(session, F_test, L_test)"
   ]
  },
  {
   "cell_type": "code",
   "execution_count": null,
   "metadata": {
    "collapsed": false
   },
   "outputs": [],
   "source": [
    "from sklearn.metrics import average_precision_score, precision_recall_curve, roc_curve, auc\n",
    "pr_models = []\n",
    "roc_models = []\n",
    "for marginal in test_marginals:    \n",
    "    fpr, tpr, thresholds = roc_curve(list(L_test[:,0]),marginal,pos_label=1)\n",
    "    roc_auc = auc(fpr, tpr)\n",
    "    \n",
    "    precision, recall, thresholds = precision_recall_curve(L_test[:,0].todense(),marginal,pos_label=1)\n",
    "    avg_precision = average_precision_score(L_test[:,0].todense(), marginal)\n",
    "    \n",
    "    roc_models.append(tuple([fpr,tpr,roc_auc]))\n",
    "    pr_models.append(tuple([recall,precision,avg_precision]))"
   ]
  },
  {
   "cell_type": "code",
   "execution_count": null,
   "metadata": {
    "collapsed": false
   },
   "outputs": [],
   "source": [
    "import matplotlib.pyplot as plt\n",
    "model_names = [\"KB\", \"KB+Context\"]\n",
    "color_vals = [\"darkorange\", \"cyan\", \"red\"]\n",
    "for i,model in enumerate(pr_models):\n",
    "    plt.plot(model[0],model[1], color=color_vals[i],\n",
    "         lw=2, label='%s (area = %0.2f)' % (model_names[i],model[2]))\n",
    "plt.xlim([0.0, 1.0])\n",
    "plt.ylim([0.0, 1.05])\n",
    "plt.xlabel('Recall')\n",
    "plt.ylabel('Precision')\n",
    "plt.title('Precision-Recall Curve')\n",
    "plt.legend(loc=\"lower right\")\n",
    "plt.show()"
   ]
  },
  {
   "cell_type": "code",
   "execution_count": null,
   "metadata": {
    "collapsed": false
   },
   "outputs": [],
   "source": [
    "import matplotlib.pyplot as plt\n",
    "model_names = [\"KB\", \"KB+Context\"]\n",
    "color_vals = [\"darkorange\", \"cyan\", \"red\"]\n",
    "for i,model in enumerate(roc_models):\n",
    "    plt.plot(model[0],model[1], color=color_vals[i],\n",
    "         lw=2, label='%s (area = %0.2f)' % (model_names[i],model[2]))\n",
    "    plt.plot([0, 1], [0, 1], color='navy', lw=2, linestyle='--')\n",
    "plt.xlim([0.0, 1.0])\n",
    "plt.ylim([0.0, 1.05])\n",
    "plt.xlabel('False Positive Rate')\n",
    "plt.ylabel('True Positive Rate')\n",
    "plt.title('ROC Curve')\n",
    "plt.legend(loc=\"lower right\")\n",
    "plt.show()"
   ]
  },
  {
   "cell_type": "markdown",
   "metadata": {},
   "source": [
    "# Disc Model Without Hyper-Param Tuning"
   ]
  },
  {
   "cell_type": "code",
   "execution_count": null,
   "metadata": {
    "collapsed": true
   },
   "outputs": [],
   "source": [
    "from snorkel.annotations import load_marginals\n",
    "train_marginals = load_marginals(session,0)"
   ]
  },
  {
   "cell_type": "code",
   "execution_count": null,
   "metadata": {
    "collapsed": false
   },
   "outputs": [],
   "source": [
    "train_marginals"
   ]
  },
  {
   "cell_type": "code",
   "execution_count": null,
   "metadata": {
    "collapsed": false
   },
   "outputs": [],
   "source": [
    "from snorkel.learning import SparseLogisticRegression\n",
    "disc_model = SparseLogisticRegression()"
   ]
  },
  {
   "cell_type": "code",
   "execution_count": null,
   "metadata": {
    "collapsed": false
   },
   "outputs": [],
   "source": [
    "disc_model.train(F_train, train_marginals[1], n_epochs=20, lr=0.001)"
   ]
  },
  {
   "cell_type": "code",
   "execution_count": null,
   "metadata": {
    "collapsed": true
   },
   "outputs": [],
   "source": [
    "test_marginals.append(disc_model.marginals(F_test))"
   ]
  },
  {
   "cell_type": "code",
   "execution_count": null,
   "metadata": {
    "collapsed": false
   },
   "outputs": [],
   "source": [
    "test_marginals = disc_model.marginals(F_test)\n",
    "\n",
    "import matplotlib.pyplot as plt\n",
    "plt.hist(test_marginals,bins=20)\n",
    "plt.show()"
   ]
  },
  {
   "cell_type": "code",
   "execution_count": null,
   "metadata": {
    "collapsed": false
   },
   "outputs": [],
   "source": [
    "from snorkel.models import candidate_subclass\n",
    "\n",
    "DiseaseGene = candidate_subclass('DiseaseGene', ['Disease', 'Gene'])"
   ]
  },
  {
   "cell_type": "code",
   "execution_count": null,
   "metadata": {
    "collapsed": false
   },
   "outputs": [],
   "source": [
    "tp,fp,tn,fn = disc_model.score(session, F_test, L_test)"
   ]
  },
  {
   "cell_type": "code",
   "execution_count": null,
   "metadata": {
    "collapsed": false
   },
   "outputs": [],
   "source": [
    "print \"TP\"\n",
    "print tp\n",
    "print \n",
    "\n",
    "print \"FP\"\n",
    "print fp"
   ]
  }
 ],
 "metadata": {
  "anaconda-cloud": {},
  "kernelspec": {
   "display_name": "Python 2",
   "language": "python",
   "name": "python2"
  },
  "language_info": {
   "codemirror_mode": {
    "name": "ipython",
    "version": 2
   },
   "file_extension": ".py",
   "mimetype": "text/x-python",
   "name": "python",
   "nbconvert_exporter": "python",
   "pygments_lexer": "ipython2",
   "version": "2.7.13"
  }
 },
 "nbformat": 4,
 "nbformat_minor": 2
}
